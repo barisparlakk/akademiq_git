{
 "cells": [
  {
   "metadata": {
    "ExecuteTime": {
     "end_time": "2025-02-09T12:29:44.428204Z",
     "start_time": "2025-02-09T12:29:38.853286Z"
    }
   },
   "cell_type": "code",
   "source": [
    "s1 = int(input(\"Birinci sayiyi girin: \"))\n",
    "s2 = int(input(\"Ikinci sayiyi girin: \"))\n",
    "summ = s1 + s2"
   ],
   "id": "a10c3058b61a56e0",
   "outputs": [],
   "execution_count": 1
  },
  {
   "metadata": {
    "ExecuteTime": {
     "end_time": "2025-02-09T12:29:47.045634Z",
     "start_time": "2025-02-09T12:29:47.042399Z"
    }
   },
   "cell_type": "code",
   "source": "print(\"Toplam = \", summ)",
   "id": "88011f3af572795c",
   "outputs": [
    {
     "name": "stdout",
     "output_type": "stream",
     "text": [
      "Toplam =  4\n"
     ]
    }
   ],
   "execution_count": 2
  },
  {
   "metadata": {},
   "cell_type": "code",
   "outputs": [],
   "execution_count": null,
   "source": "",
   "id": "96d9fb3487dbe853"
  }
 ],
 "metadata": {
  "kernelspec": {
   "name": "python3",
   "language": "python",
   "display_name": "Python 3 (ipykernel)"
  }
 },
 "nbformat": 5,
 "nbformat_minor": 9
}
